{
 "cells": [
  {
   "cell_type": "markdown",
   "metadata": {},
   "source": [
    "## 堆排序\n",
    "首先，先将数组变成一个大根堆，将最后的值与最大值交换，heapSize-=1，周而复始。"
   ]
  },
  {
   "cell_type": "code",
   "execution_count": 4,
   "metadata": {},
   "outputs": [
    {
     "name": "stdout",
     "output_type": "stream",
     "text": [
      "test succed!\n"
     ]
    }
   ],
   "source": [
    "from testDriver import testDriver\n",
    "\n",
    "def swap(myList, index1, index2):\n",
    "    myList[index1], myList[index2] = myList[index2], myList[index1]\n",
    "    \n",
    "def heapInsert(myList, index):\n",
    "    while myList[index] > myList[abs(index - 1) // 2]:\n",
    "        swap(myList, index, (index - 1) // 2)\n",
    "        index = (index - 1) // 2 \n",
    "\n",
    "def heapify(myList, index, heapSize):\n",
    "    leftNode = index * 2 + 1 \n",
    "    while leftNode < heapSize:\n",
    "        larger = leftNode + 1 if (leftNode + 1 < heapSize) \\\n",
    "            and (myList[leftNode + 1] > myList[leftNode]) else leftNode\n",
    "        larger = larger if myList[larger] > myList[index] else index\n",
    "        if larger == index:\n",
    "            break\n",
    "        swap(myList, larger, index)\n",
    "        index = larger\n",
    "        leftNode = index * 2 + 1\n",
    "\n",
    "def heapSort(myList, left, right):\n",
    "    if left >= right:\n",
    "        return \n",
    "    for i in range(left, right + 1):\n",
    "        heapInsert(myList, i)\n",
    "    heapSize = right - left + 1\n",
    "    while (heapSize > 0):\n",
    "        swap(myList, left, heapSize - 1)\n",
    "        heapSize -= 1\n",
    "        heapify(myList, left, heapSize)\n",
    "\n",
    "## test now!!\n",
    "size = 100\n",
    "value = 100\n",
    "testdriver = testDriver(size, value)\n",
    "flag = True\n",
    "for _ in range(10000):\n",
    "    re1 = testdriver.getArray()\n",
    "    heapSort(re1, 0, len(testdriver) - 1)\n",
    "    re2 = testdriver.naiveSort()\n",
    "    if re1 != re2:\n",
    "        flag = False\n",
    "if flag:\n",
    "    print(\"test succed!\")\n",
    "else:\n",
    "    print(\"test failed...\")\n",
    "    \n",
    "    \n"
   ]
  },
  {
   "cell_type": "markdown",
   "metadata": {},
   "source": [
    "**heapInsert的优化，假如现有了一个完全二叉树，如何转换成大根堆？**\n",
    "从最后一个节点的父节点做heapify"
   ]
  },
  {
   "cell_type": "code",
   "execution_count": 1,
   "metadata": {},
   "outputs": [
    {
     "name": "stdout",
     "output_type": "stream",
     "text": [
      "test succed!\n"
     ]
    }
   ],
   "source": [
    "from testDriver import testDriver\n",
    "\n",
    "def swap(myList, index1, index2):\n",
    "    myList[index1], myList[index2] = myList[index2], myList[index1]\n",
    "    \n",
    "def heapInsert(myList, index):\n",
    "    while myList[index] > myList[abs(index - 1) // 2]:\n",
    "        swap(myList, index, (index - 1) // 2)\n",
    "        index = (index - 1) // 2 \n",
    "\n",
    "def heapify(myList, index, heapSize):\n",
    "    leftNode = index * 2 + 1 \n",
    "    while leftNode < heapSize:\n",
    "        larger = leftNode + 1 if (leftNode + 1 < heapSize) \\\n",
    "            and (myList[leftNode + 1] > myList[leftNode]) else leftNode\n",
    "        larger = larger if myList[larger] > myList[index] else index\n",
    "        if larger == index:\n",
    "            break\n",
    "        swap(myList, larger, index)\n",
    "        index = larger\n",
    "        leftNode = index * 2 + 1\n",
    "\n",
    "def heapSort(myList, left, right):\n",
    "    if left >= right:\n",
    "        return \n",
    "    # for i in range(len(myList)):\n",
    "    #     heapInsert(myList, i)\n",
    "    ## 这里进行优化，只用heapify，这样会更快，但整体复杂度不影响\n",
    "    for i in range(right, left - 1, -1):\n",
    "        heapify(myList, i, right - left + 1)\n",
    "    heapSize = right - left + 1\n",
    "    while (heapSize > 0):\n",
    "        swap(myList, left, heapSize - 1)\n",
    "        heapSize -= 1\n",
    "        heapify(myList, left, heapSize)\n",
    "\n",
    "## test now!!\n",
    "size = 100\n",
    "value = 100\n",
    "flag = True\n",
    "for _ in range(10000):\n",
    "    testdriver = testDriver(size, value)\n",
    "    re1 = testdriver.getArray()\n",
    "    heapSort(re1, 0, len(testdriver) - 1)\n",
    "    re2 = testdriver.naiveSort()\n",
    "    if re1 != re2:\n",
    "        flag = False\n",
    "if flag:\n",
    "    print(\"test succed!\")\n",
    "else:\n",
    "    print(\"test failed...\")\n",
    "    "
   ]
  }
 ],
 "metadata": {
  "kernelspec": {
   "display_name": "pytorch",
   "language": "python",
   "name": "python3"
  },
  "language_info": {
   "codemirror_mode": {
    "name": "ipython",
    "version": 3
   },
   "file_extension": ".py",
   "mimetype": "text/x-python",
   "name": "python",
   "nbconvert_exporter": "python",
   "pygments_lexer": "ipython3",
   "version": "3.9.7"
  }
 },
 "nbformat": 4,
 "nbformat_minor": 2
}
