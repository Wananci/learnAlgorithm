{
 "cells": [
  {
   "cell_type": "markdown",
   "metadata": {},
   "source": [
    "## **堆结构**  \n",
    "一个从零出发的一段连续数组能转换为完全二叉树\n",
    "![img1](./imgs/img1.jpg)\n",
    "\n",
    "大根堆：每颗子树的最大值都是根节点的值 \n",
    "![img2](./imgs/img2.jpg)  \n",
    "小根堆：每颗子树的最小值都是根节点的值\n",
    "\n",
    "**如何将一个数组变成大根堆？**  \n",
    "heapInsert:每次新进来的数都要与父节点比较（父=(i-1)/2向下取整），如果比父大，就交换，直到比父小或者到头\n",
    "![code1](./imgs/code1.jpg)\n",
    "\n",
    "**如何去掉大根堆的最大值，并将重新排列，是现有的树变成大根堆？**  \n",
    "heapify:大根堆顶为最大值，去掉后，将数组最后的数(A)移到树顶。并进行比较： \n",
    "```python \n",
    "while (A > max(A的子节点a1, a2) and A有子节点)：  \n",
    "    swap(A, max(a1, a2))\n",
    "```\n",
    "\n",
    "**如何修改大根堆里的一个数，使其仍为大根堆？**  \n",
    "condition1：数变大，那么向上进行heapInsert\n",
    "condition2：数变小，那么向下进行heapify\n",
    "\n",
    "**用户移除一个数字或者更改一个数字都是O(log(N))**"
   ]
  },
  {
   "cell_type": "code",
   "execution_count": 8,
   "metadata": {},
   "outputs": [],
   "source": [
    "def swap(myList, index1, index2):\n",
    "    myList[index1], myList[index2] = myList[index2], myList[index1]\n",
    "\n",
    "def heapify(myList, index, heapSize):\n",
    "    leftNode = index * 2 + 1 ## 左孩子\n",
    "    ## 截止条件：如果没孩子或者孩子都比父小，就截止\n",
    "    while leftNode < heapSize:  ## 有孩子\n",
    "        larger = leftNode + 1 if (leftNode + 1 < heapSize) and \\\n",
    "            (myList[leftNode + 1] > myList[leftNode]) else leftNode ## 比较孩子 \n",
    "        larger = larger if myList[larger] > myList[index] else index ## 比较父亲和大孩子\n",
    "        if (larger == index):\n",
    "            break\n",
    "        swap(myList, larger, index)\n",
    "        index = larger  ## 继续向下比较\n",
    "        leftNode = index * 2 + 1\n"
   ]
  }
 ],
 "metadata": {
  "kernelspec": {
   "display_name": "pytorch",
   "language": "python",
   "name": "python3"
  },
  "language_info": {
   "codemirror_mode": {
    "name": "ipython",
    "version": 3
   },
   "file_extension": ".py",
   "mimetype": "text/x-python",
   "name": "python",
   "nbconvert_exporter": "python",
   "pygments_lexer": "ipython3",
   "version": "3.9.7"
  }
 },
 "nbformat": 4,
 "nbformat_minor": 2
}
