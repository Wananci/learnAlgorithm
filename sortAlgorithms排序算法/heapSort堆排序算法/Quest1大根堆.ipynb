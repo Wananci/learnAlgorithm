{
 "cells": [
  {
   "cell_type": "markdown",
   "metadata": {},
   "source": [
    "问题1\n",
    "![Quest1](./Q1.jpg)\n",
    "\n",
    "思路：假设k=6，首先拿数组的前七个数字，组成一个小根堆，此时小根堆的第一个数字一定是数组中最小的。弹出第一个数字，压入第八个数字。重复操作。最后临近结束时，弹出小根堆中的每一个最小数就行"
   ]
  },
  {
   "cell_type": "code",
   "execution_count": 1,
   "metadata": {},
   "outputs": [],
   "source": [
    "import heapq\n",
    "\n",
    "def Solution(myList, k):\n",
    "    minHeap = []\n",
    "    for index in range(0, k):\n",
    "        heapq.heappush(minHeap, myList[index])\n",
    "    i = 0\n",
    "    for index in range(k, len(myList)):\n",
    "        myList[i] = heapq.heappop(minHeap)\n",
    "        heapq.heappush(minHeap, myList[index])\n",
    "        i += 1\n",
    "    while not minHeap: ## 判断非空\n",
    "        myList[i] = heapq.heappop(minHeap)\n",
    "        i += 1\n"
   ]
  },
  {
   "cell_type": "code",
   "execution_count": 2,
   "metadata": {},
   "outputs": [
    {
     "name": "stdout",
     "output_type": "stream",
     "text": [
      "1\n",
      "3\n",
      "1\n"
     ]
    }
   ],
   "source": [
    "## 利用库实现小根堆 heapq库的使用\n",
    "import heapq\n",
    "\n",
    "# 创建一个空的列表，用于模拟小根堆\n",
    "min_heap = []\n",
    "\n",
    "# 插入元素到小根堆\n",
    "heapq.heappush(min_heap, 4)\n",
    "heapq.heappush(min_heap, 1)\n",
    "heapq.heappush(min_heap, 7)\n",
    "heapq.heappush(min_heap, 3)\n",
    "\n",
    "# 弹出并打印小根堆中的最小元素\n",
    "print(heapq.heappop(min_heap))  # 输出 1\n",
    "\n",
    "# 使用 heapreplace 替换最小元素\n",
    "heapq.heapreplace(min_heap, 2)\n",
    "print(min_heap[0])\n",
    "\n",
    "# 列表\n",
    "data = [4, 1, 7, 3]\n",
    "\n",
    "# 将列表转换为小根堆\n",
    "heapq.heapify(data)\n",
    "\n",
    "# 打印小根堆中的最小元素\n",
    "print(data[0])  # 输出 1"
   ]
  }
 ],
 "metadata": {
  "kernelspec": {
   "display_name": "pytorch",
   "language": "python",
   "name": "python3"
  },
  "language_info": {
   "codemirror_mode": {
    "name": "ipython",
    "version": 3
   },
   "file_extension": ".py",
   "mimetype": "text/x-python",
   "name": "python",
   "nbconvert_exporter": "python",
   "pygments_lexer": "ipython3",
   "version": "3.9.7"
  }
 },
 "nbformat": 4,
 "nbformat_minor": 2
}
