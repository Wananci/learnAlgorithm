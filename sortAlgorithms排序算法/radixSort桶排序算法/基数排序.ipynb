{
 "cells": [
  {
   "cell_type": "markdown",
   "metadata": {},
   "source": [
    "### 基数排序 radixSort\n",
    "![](./img1.jpg)  \n",
    "补齐数字，让他们都成为三位数，准备10个桶（0-9），先入先出！\n",
    "1）根据个位将他们放入对应的桶中，再将他们都倒出来  \n",
    "2）根据十位将他们放入对应的桶中，再将他们都倒出来  \n",
    "3）根据百位将他们放入对应的桶中，再将他们都倒出来  "
   ]
  },
  {
   "cell_type": "code",
   "execution_count": 4,
   "metadata": {},
   "outputs": [
    {
     "name": "stdout",
     "output_type": "stream",
     "text": [
      "test succed!\n"
     ]
    }
   ],
   "source": [
    "from testDriver import testDriver\n",
    "def maxBit(myList):\n",
    "    res = 0\n",
    "    maxNum = max(myList)\n",
    "    while maxNum != 0:\n",
    "        res += 1\n",
    "        maxNum //= 10\n",
    "    return res\n",
    "\n",
    "def getDigit(num, digit):\n",
    "    '''\n",
    "        取出num的第digit位数字\n",
    "    '''\n",
    "    divisor = 10 ** (digit - 1)\n",
    "    return (num // divisor) % 10\n",
    "\n",
    "def radixSort(myList, left, right):\n",
    "    if left >= right:\n",
    "        return \n",
    "    radixSortFunc(myList, left, right, maxBit(myList))\n",
    "\n",
    "def radixSortFunc(myList, left, right, digits):\n",
    "    '''\n",
    "        digits是myList中最大的数有多少位，也代表数字入桶出桶的次数\n",
    "    '''\n",
    "    ## 这里利用countList和help数组，完成一次入桶出桶\n",
    "    radix = 10  ## 十进制有十个数字\n",
    "    arr = [0] * (right - left + 1)\n",
    "    for d in range(1, digits + 1): ## 出入桶次数\n",
    "        countList = [0] * radix  ## 词频表 \n",
    "        for i in range(left, right + 1):\n",
    "            j = getDigit(myList[i], d)\n",
    "            countList[j] += 1\n",
    "        for i in range(1, len(countList)):\n",
    "            countList[i] = countList[i] + countList[i - 1]\n",
    "        ## 此时的countList表示：countList[j] = n  表示某一位数字小于等于j的个数为n个\n",
    "        ## 现在要从右往左遍历原数组，根据countList放入辅助数组arr中\n",
    "        for i in range(right, left - 1, -1):\n",
    "            j = getDigit(myList[i], d)\n",
    "            arr[countList[j] - 1] = myList[i]  \n",
    "            ## eg: 由于从右遍历，又d位上知道小于等于j的有countList[j]个，因此，这个数肯定是放在arr[countList[j] - 1]\n",
    "            countList[j] -= 1\n",
    "        j = 0\n",
    "        for i in range(left, right + 1):\n",
    "            myList[i] = arr[j]\n",
    "            j += 1\n",
    "\n",
    "## test now!\n",
    "size = 100\n",
    "value = 100\n",
    "flag = True\n",
    "for _ in range(5000):\n",
    "    testdriver = testDriver(size, value, onlyPositiveNum=True)\n",
    "    re1 = testdriver.getArray()\n",
    "    radixSort(re1, 0, len(testdriver) - 1)\n",
    "    re2 = testdriver.naiveSort()\n",
    "    if re1 != re2:\n",
    "        flag = False\n",
    "if flag:\n",
    "    print(\"test succed!\")\n",
    "else:\n",
    "    print(\"test failed...\")"
   ]
  }
 ],
 "metadata": {
  "kernelspec": {
   "display_name": "pytorch",
   "language": "python",
   "name": "python3"
  },
  "language_info": {
   "codemirror_mode": {
    "name": "ipython",
    "version": 3
   },
   "file_extension": ".py",
   "mimetype": "text/x-python",
   "name": "python",
   "nbconvert_exporter": "python",
   "pygments_lexer": "ipython3",
   "version": "3.9.7"
  }
 },
 "nbformat": 4,
 "nbformat_minor": 2
}
