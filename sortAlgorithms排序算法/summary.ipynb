{
 "cells": [
  {
   "cell_type": "markdown",
   "metadata": {},
   "source": [
    "![image.png](./summary.jpg)  \n",
    "因此，追求稳定性，用归并。大部分情况用快速排序，空间很受限用桶排序"
   ]
  }
 ],
 "metadata": {
  "language_info": {
   "name": "python"
  }
 },
 "nbformat": 4,
 "nbformat_minor": 2
}
