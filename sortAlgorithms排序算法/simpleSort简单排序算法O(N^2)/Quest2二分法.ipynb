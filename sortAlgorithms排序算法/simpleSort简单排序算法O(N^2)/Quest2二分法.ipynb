{
 "cells": [
  {
   "cell_type": "markdown",
   "metadata": {},
   "source": [
    "常规来说，二分法可以用于在一个有序数组中寻找特定的数，但无序数组也可以用"
   ]
  },
  {
   "cell_type": "markdown",
   "metadata": {},
   "source": [
    "问题2\n",
    "\n",
    "1）寻找局部最小：\n",
    "现在有一个无序的数组，寻找出任意的局部最小的位置。\n",
    "局部最小定义，List[i-1] > List[i] < List[i+1]。 时间复杂度优于O(N)"
   ]
  },
  {
   "cell_type": "markdown",
   "metadata": {},
   "source": [
    "思路：先判断0位置和N-1位置，如果这两个地方都不满足，则在1~N-2之间必有一个局部最小\n",
    "接着，二分整个数组，设中点位置为M，假设List[M-1] < List[M]，则在1~M-1之间必有一个局部最小"
   ]
  }
 ],
 "metadata": {
  "language_info": {
   "name": "python"
  }
 },
 "nbformat": 4,
 "nbformat_minor": 2
}
