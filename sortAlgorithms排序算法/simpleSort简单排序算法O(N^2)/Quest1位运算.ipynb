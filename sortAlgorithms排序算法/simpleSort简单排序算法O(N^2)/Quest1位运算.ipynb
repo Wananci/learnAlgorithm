{
 "cells": [
  {
   "cell_type": "markdown",
   "metadata": {},
   "source": [
    "问题1：\n",
    "\n",
    "1）在数列中，有一个数出现了奇数次，其他的数出现了偶数次，找到这个数字"
   ]
  },
  {
   "cell_type": "code",
   "execution_count": 5,
   "metadata": {},
   "outputs": [
    {
     "name": "stdout",
     "output_type": "stream",
     "text": [
      "3\n"
     ]
    }
   ],
   "source": [
    "def Solution1(mylist):\n",
    "    eor = 0\n",
    "    for i in range(0, len(mylist)):\n",
    "        eor = eor ^ mylist[i]\n",
    "    return eor\n",
    "\n",
    "## test1\n",
    "list1 = [2, 3, 2, 3, 4, 2, 2, 5, 5]\n",
    "print(Solution1(list1))"
   ]
  },
  {
   "cell_type": "markdown",
   "metadata": {},
   "source": [
    "2）在数列中，有两个数出现了奇数次，其他的数出现了偶数次，找到这两个数字，思路：\n",
    "\n",
    "按照问题1，eor最后的结果为ans1 ^ ans2\n",
    "\n",
    "此时，由于ans1!=ans2，所以eor不等于0\n",
    "\n",
    "因此，eor的二进制表示中，一定至少有一位不等于0。\n",
    "\n",
    "eg，第一位不等于0，因此，证明ans1和ans2的第一位不同，一个是1一个是0\n",
    "\n",
    "设另一个变量eor1=异或所有第一位是1的数，因此eor1=ans1或者ans2，那么eor^eor1=ans2或ans1\n",
    "\n"
   ]
  },
  {
   "cell_type": "code",
   "execution_count": 10,
   "metadata": {},
   "outputs": [
    {
     "name": "stdout",
     "output_type": "stream",
     "text": [
      "7 4\n"
     ]
    }
   ],
   "source": [
    "def Solution2(mylist):\n",
    "    eor = 0\n",
    "    for i in range(0, len(mylist)):\n",
    "        eor = eor ^ mylist[i]\n",
    "    rightestOne = eor & (~eor + 1) ## 提取出最右侧的1\n",
    "    eor1 = 0\n",
    "    for j in range(0, len(mylist)):\n",
    "        if rightestOne & mylist[j] != 0:\n",
    "            eor1 ^= mylist[j]\n",
    "    return (eor1, eor1 ^ eor)\n",
    "\n",
    "## test2\n",
    "list2 = [2, 3, 2, 3, 4, 2, 2, 5, 5, 7]\n",
    "print(*Solution2(list2))"
   ]
  }
 ],
 "metadata": {
  "kernelspec": {
   "display_name": "pytorch",
   "language": "python",
   "name": "python3"
  },
  "language_info": {
   "codemirror_mode": {
    "name": "ipython",
    "version": 3
   },
   "file_extension": ".py",
   "mimetype": "text/x-python",
   "name": "python",
   "nbconvert_exporter": "python",
   "pygments_lexer": "ipython3",
   "version": "3.9.7"
  }
 },
 "nbformat": 4,
 "nbformat_minor": 2
}
