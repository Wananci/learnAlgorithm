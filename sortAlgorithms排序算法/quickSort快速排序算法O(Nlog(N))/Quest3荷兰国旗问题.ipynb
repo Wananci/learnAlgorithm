{
 "cells": [
  {
   "cell_type": "markdown",
   "metadata": {},
   "source": [
    "![Quest3](./Q3.jpg)"
   ]
  },
  {
   "cell_type": "markdown",
   "metadata": {},
   "source": [
    "![Quest3思路](./Q3_1.jpg)"
   ]
  },
  {
   "cell_type": "code",
   "execution_count": 22,
   "metadata": {},
   "outputs": [
    {
     "name": "stdout",
     "output_type": "stream",
     "text": [
      "[3, 5, 4, 3, 5, 7, 6, 8]\n"
     ]
    }
   ],
   "source": [
    "## 问题1的代码，思路如上图\n",
    "def Solution1(myList, setNum):\n",
    "    index = -1 ## 小于等于区域的右边界\n",
    "    i = 0\n",
    "    while i < len(myList):\n",
    "        if myList[i] <= setNum:\n",
    "            myList[i], myList[index+1] = myList[index+1], myList[i]\n",
    "            index += 1\n",
    "            i += 1\n",
    "        else:\n",
    "            i += 1\n",
    "\n",
    "## test now!\n",
    "testList = [3, 5, 4, 7, 6, 3, 5, 8]\n",
    "setNum = 5\n",
    "Solution1(testList, setNum)\n",
    "print(testList)"
   ]
  },
  {
   "cell_type": "markdown",
   "metadata": {},
   "source": [
    "![Quest3_2](./Q3_2.jpg)"
   ]
  },
  {
   "cell_type": "code",
   "execution_count": 3,
   "metadata": {},
   "outputs": [
    {
     "name": "stdout",
     "output_type": "stream",
     "text": [
      "4 7\n",
      "[3, 0, 3, 4, 2, 5, 5, 9, 6, 6]\n"
     ]
    }
   ],
   "source": [
    "## 问题2的代码\n",
    "def Solution2(myList, setNum):\n",
    "    ## 初始时，小于和大于区域的边界都在数组外面\n",
    "    leftIndex = -1 ## 小于区域的右边界\n",
    "    rightIndex = len(myList) ## 大于区域的左边界\n",
    "    i = 0\n",
    "    while i < rightIndex: ## 与问题1不同\n",
    "        if myList[i] < setNum:\n",
    "            leftIndex += 1\n",
    "            myList[i], myList[leftIndex] = myList[leftIndex], myList[i]\n",
    "            i += 1\n",
    "        elif myList[i] == setNum:\n",
    "            i += 1\n",
    "        else:\n",
    "            rightIndex -= 1            \n",
    "            myList[i], myList[rightIndex] = myList[rightIndex], myList[i]\n",
    "            ## 这里i不增加是因为交换完以后，换过来的数字并不知道与setNum的关系\n",
    "    print(leftIndex, rightIndex)\n",
    "\n",
    "setNum2 = 5\n",
    "testList2 = [3, 5, 6, 3, 4, 5, 2, 6, 9, 0]\n",
    "Solution2(testList2, setNum2)\n",
    "print(testList2)"
   ]
  },
  {
   "cell_type": "code",
   "execution_count": 29,
   "metadata": {},
   "outputs": [
    {
     "name": "stdout",
     "output_type": "stream",
     "text": [
      "[2, 1, 3, 3, 5, 7, 4, 4]\n"
     ]
    }
   ],
   "source": [
    "def Solution2(myList, setNum):\n",
    "    leftIndex = 0\n",
    "    currentIndex = 0\n",
    "    rightIndex = len(myList) - 1\n",
    "\n",
    "    while currentIndex <= rightIndex:\n",
    "        if myList[currentIndex] < setNum:\n",
    "            myList[currentIndex], myList[leftIndex] = myList[leftIndex], myList[currentIndex]\n",
    "            leftIndex += 1\n",
    "            currentIndex += 1\n",
    "        elif myList[currentIndex] == setNum:\n",
    "            currentIndex += 1\n",
    "        else:\n",
    "            myList[currentIndex], myList[rightIndex] = myList[rightIndex], myList[currentIndex]\n",
    "            rightIndex -= 1\n",
    "\n",
    "# 示例用法\n",
    "myList = [4, 2, 7, 1, 5, 3, 3, 4]\n",
    "setNum = 3\n",
    "Solution2(myList, setNum)\n",
    "print(myList)"
   ]
  }
 ],
 "metadata": {
  "kernelspec": {
   "display_name": "pytorch",
   "language": "python",
   "name": "python3"
  },
  "language_info": {
   "codemirror_mode": {
    "name": "ipython",
    "version": 3
   },
   "file_extension": ".py",
   "mimetype": "text/x-python",
   "name": "python",
   "nbconvert_exporter": "python",
   "pygments_lexer": "ipython3",
   "version": "3.9.7"
  }
 },
 "nbformat": 4,
 "nbformat_minor": 2
}
