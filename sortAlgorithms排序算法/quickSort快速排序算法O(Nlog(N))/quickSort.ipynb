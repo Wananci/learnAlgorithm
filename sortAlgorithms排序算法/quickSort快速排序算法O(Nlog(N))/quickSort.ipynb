{
 "cells": [
  {
   "cell_type": "markdown",
   "metadata": {},
   "source": [
    "## 快速排序\n",
    "QuickSort 通过随机采样，让算法从O(N^2)变成O(N*log(N))，空间复杂度O(log(N))"
   ]
  },
  {
   "cell_type": "code",
   "execution_count": 1,
   "metadata": {},
   "outputs": [
    {
     "name": "stdout",
     "output_type": "stream",
     "text": [
      "test succed!\n"
     ]
    }
   ],
   "source": [
    "import random\n",
    "from testDriver import testDriver\n",
    "\n",
    "def swapFuc(myList, a, b):\n",
    "    myList[a], myList[b] = myList[b], myList[a]\n",
    "\n",
    "def quickSort(myList, left, right):\n",
    "    if left < right:\n",
    "        swapFuc(myList, right, left + int(random.random() * (right - left + 1))) ## 随机选择一个数，与最后数交换\n",
    "        p = partition(myList, left, right)  ## 此时，返回的p是一个数组，代表的是 等于区域的左右边界坐标！！\n",
    "        quickSort(myList, left, p[0] - 1)\n",
    "        quickSort(myList, p[1] + 1, right)\n",
    "        \n",
    "def partition(myList, left, right): \n",
    "    '''\n",
    "        parition就是荷兰国旗问题\n",
    "    '''\n",
    "    setNum = myList[right]\n",
    "    leftIndex = left - 1\n",
    "    rightIndex = right\n",
    "    currentIndex = left\n",
    "    while currentIndex < rightIndex:\n",
    "        if myList[currentIndex] < setNum:\n",
    "            leftIndex += 1\n",
    "            swapFuc(myList, currentIndex, leftIndex)\n",
    "            currentIndex += 1\n",
    "        elif myList[currentIndex] == setNum:\n",
    "            currentIndex += 1\n",
    "        else:\n",
    "            rightIndex -= 1            \n",
    "            swapFuc(myList, currentIndex, rightIndex)\n",
    "    swapFuc(myList, rightIndex, right)\n",
    "    return [leftIndex + 1, rightIndex - 1]\n",
    "\n",
    "## test now!\n",
    "size = 100\n",
    "value = 100\n",
    "flag = True\n",
    "for _ in range(10000):\n",
    "    testdriver = testDriver(size, value)\n",
    "    re1 = testdriver.getArray()\n",
    "    quickSort(re1, 0, len(testdriver) - 1)\n",
    "    re2 = testdriver.naiveSort()\n",
    "    if re1 != re2:\n",
    "        flag = False\n",
    "if flag:\n",
    "    print(\"test succed!\")"
   ]
  }
 ],
 "metadata": {
  "kernelspec": {
   "display_name": "pytorch",
   "language": "python",
   "name": "python3"
  },
  "language_info": {
   "codemirror_mode": {
    "name": "ipython",
    "version": 3
   },
   "file_extension": ".py",
   "mimetype": "text/x-python",
   "name": "python",
   "nbconvert_exporter": "python",
   "pygments_lexer": "ipython3",
   "version": "3.9.7"
  }
 },
 "nbformat": 4,
 "nbformat_minor": 2
}
