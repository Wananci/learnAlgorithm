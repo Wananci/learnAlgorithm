{
 "cells": [
  {
   "cell_type": "markdown",
   "metadata": {},
   "source": [
    "<p style=\"font-size:30px;\">**递归**</p>  \n",
    "master公式：T(N)=a*T(N/b)+O(N^d).  \n",
    "\n",
    "T(N)是母问题的时间复杂度，a是子问题调用的次数，T(N/b)是子问题的规模，O(N^d)是其他的"
   ]
  },
  {
   "cell_type": "markdown",
   "metadata": {},
   "source": [
    "例题：数组在[L,R]范围上求最大值"
   ]
  },
  {
   "cell_type": "code",
   "execution_count": 1,
   "metadata": {},
   "outputs": [
    {
     "name": "stdout",
     "output_type": "stream",
     "text": [
      "List is [3, 3, 9, 0, 2, 3, 2, 8, 3, 5]\n",
      "9\n"
     ]
    }
   ],
   "source": [
    "import random\n",
    "def recursion(myList, Left, Right):\n",
    "    \"\"\"\n",
    "        这里 算mid，不能用(L+R)/2，因为如果数据比较多，L+R会溢出，这样mid时负数\n",
    "        因此 mid=L+(R-L)/2\n",
    "        简化上述写法，mid=L+(R-L)>>1\n",
    "    Args:\n",
    "        myList (_type_): _description_\n",
    "        Left (_type_): _description_\n",
    "        Right (_type_): _description_\n",
    "\n",
    "    Returns:\n",
    "        _type_: _description_\n",
    "    \"\"\"\n",
    "    if (Left == Right):\n",
    "        return myList[Left]\n",
    "    mid = Left + ((Right - Left) >> 1)\n",
    "     # 右移一位相当于除以二，对于正整数，右移一位相当于除以2，结果向下取整。对于负整数，右移一位也相当于除以2，结果向负无穷取整\n",
    "    leftMax = recursion(myList, Left, mid)\n",
    "    rightMax = recursion(myList, mid + 1, Right)\n",
    "    return max(leftMax, rightMax)\n",
    "\n",
    "## test now!\n",
    "leftIndex = 0\n",
    "rightIndex = 10\n",
    "myList = [int(10 * random.random()) for _ in range(0, rightIndex)]\n",
    "print(f\"List is {myList}\")\n",
    "print(recursion(myList, leftIndex, len(myList) - 1))\n"
   ]
  },
  {
   "cell_type": "markdown",
   "metadata": {},
   "source": [
    "T(N)=a\\*T(N/b)+O(N^d), a=2, b=2, d=0, 这里由于是对半分，因此b=2  \n",
    "T(N)=2\\*T(N/2)+O(N^0)=2\\*T(N/2)+O(1)    \n",
    "如果，这里是1/3和2/3这样分整个长度，那么T(N)=T(N/3)+T(2\\*N/3)+O(1)"
   ]
  },
  {
   "cell_type": "markdown",
   "metadata": {},
   "source": [
    "log_b(a) &lt; d, 时间复杂度 O(N^d)  \n",
    "log_b(a) > d, 时间复杂度 O(N^log_b(a))  \n",
    "log_b(a) == d, 时间复杂度 O(N^d*logN)\n",
    "\n",
    "因此，这里的递归行为，时间复杂度为O(N)，与单纯的遍历等效"
   ]
  }
 ],
 "metadata": {
  "kernelspec": {
   "display_name": "pytorch",
   "language": "python",
   "name": "python3"
  },
  "language_info": {
   "codemirror_mode": {
    "name": "ipython",
    "version": 3
   },
   "file_extension": ".py",
   "mimetype": "text/x-python",
   "name": "python",
   "nbconvert_exporter": "python",
   "pygments_lexer": "ipython3",
   "version": "3.9.7"
  }
 },
 "nbformat": 4,
 "nbformat_minor": 2
}
