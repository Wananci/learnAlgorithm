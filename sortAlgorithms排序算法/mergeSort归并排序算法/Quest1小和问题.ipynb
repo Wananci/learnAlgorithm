{
 "cells": [
  {
   "cell_type": "markdown",
   "metadata": {},
   "source": [
    "![Question1](./imgs/Q1.jpg)"
   ]
  },
  {
   "cell_type": "markdown",
   "metadata": {},
   "source": [
    "思路：通过更改mergeSort算法。求左边更小的数=求右边比本身大  \n",
    "--当两组合并的时候，由于两组都已经排好序，因此如果L[i] &lt; R[j]，那么就能知道L[i] &lt; R[j]后面所有的数，那么，就能得出有N个L[i]要被计算(N=len(R)-j)  \n",
    "--当两组比较时，数字相等的情况下，一定要先拷贝右组数，只有当左组的数严格小于右组的时候，才能计算"
   ]
  },
  {
   "cell_type": "code",
   "execution_count": 2,
   "metadata": {},
   "outputs": [
    {
     "name": "stdout",
     "output_type": "stream",
     "text": [
      "16\n"
     ]
    }
   ],
   "source": [
    "def smallSum(myList, left, right):\n",
    "    if left >= right:\n",
    "        return 0\n",
    "    mid = left + (right - left) // 2\n",
    "    return smallSum(myList, left, mid) + smallSum(myList, mid + 1, right) + merge(myList, left, mid, right)\n",
    "\n",
    "def merge(myList, left, mid, right):\n",
    "    p1 = left\n",
    "    p2 = mid + 1\n",
    "    newArry = []\n",
    "    sumNum = 0\n",
    "    while (p1 <= mid and p2 <= right):\n",
    "        if myList[p1] < myList[p2]:\n",
    "            newArry.append(myList[p1])\n",
    "            sumNum += myList[p1] * (right - p2 + 1)\n",
    "            p1 += 1\n",
    "        else:\n",
    "            newArry.append(myList[p2])\n",
    "            p2 += 1\n",
    "    while (p1 <= mid):\n",
    "        newArry.append(myList[p1])\n",
    "        p1 += 1\n",
    "    while (p2 <= right):\n",
    "        newArry.append(myList[p2])\n",
    "        p2 += 1\n",
    "    for i in range(len(newArry)):\n",
    "        myList[left + i] = newArry[i]\n",
    "    return sumNum\n",
    "\n",
    "# test now!\n",
    "testList = [1, 3, 4, 2, 5]\n",
    "sumNum = smallSum(testList, 0, len(testList) - 1)\n",
    "print(sumNum)\n",
    "\n",
    "\n"
   ]
  }
 ],
 "metadata": {
  "kernelspec": {
   "display_name": "pytorch",
   "language": "python",
   "name": "python3"
  },
  "language_info": {
   "codemirror_mode": {
    "name": "ipython",
    "version": 3
   },
   "file_extension": ".py",
   "mimetype": "text/x-python",
   "name": "python",
   "nbconvert_exporter": "python",
   "pygments_lexer": "ipython3",
   "version": "3.9.7"
  }
 },
 "nbformat": 4,
 "nbformat_minor": 2
}
