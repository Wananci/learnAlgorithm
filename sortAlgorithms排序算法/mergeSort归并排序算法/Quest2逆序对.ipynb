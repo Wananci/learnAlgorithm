{
 "cells": [
  {
   "cell_type": "markdown",
   "metadata": {},
   "source": [
    "![Quest2](./Q2.jpg)"
   ]
  },
  {
   "cell_type": "markdown",
   "metadata": {},
   "source": [
    "思路：也是由mergeSort改写的题目，Q1是求一个数右边有多少个数比它大，这里是求一个数右边有多少个数比它小。"
   ]
  },
  {
   "cell_type": "code",
   "execution_count": 15,
   "metadata": {},
   "outputs": [
    {
     "name": "stdout",
     "output_type": "stream",
     "text": [
      "逆序对的数目是：8\n",
      "逆序对有： [(4, 2), (3, 2), (5, 3), (3, 2), (5, 2), (3, 2), (4, 2), (4, 3)]\n"
     ]
    }
   ],
   "source": [
    "def inversions(myList, left, right):\n",
    "    if left >= right:\n",
    "        return [], 0\n",
    "    mid = left + (right - left) // 2\n",
    "    left_pairs, left_count = inversions(myList, left, mid)\n",
    "    right_pairs, right_count = inversions(myList, mid + 1, right)\n",
    "    merge_pairs, merge_count = merge(myList, left, mid, right)\n",
    "    all_pairs = left_pairs + right_pairs + merge_pairs\n",
    "    total_count = left_count + right_count + merge_count\n",
    "\n",
    "    return all_pairs, total_count\n",
    "\n",
    "def merge(myList, left, mid, right):\n",
    "    p1 = left\n",
    "    p2 = mid + 1\n",
    "    newArry = []\n",
    "    sumNum = 0\n",
    "    pairs = []\n",
    "    while (p1 <= mid and p2 <= right):\n",
    "        if myList[p1] <= myList[p2]:\n",
    "            newArry.append(myList[p1])\n",
    "            p1 += 1\n",
    "        else:\n",
    "            newArry.append(myList[p2])\n",
    "            index = p1\n",
    "            for index in range(p1, mid + 1):\n",
    "                pairs.append((myList[index], myList[p2]))\n",
    "            sumNum += mid - p1 + 1\n",
    "            p2 += 1\n",
    "    while (p1 <= mid):\n",
    "        newArry.append(myList[p1])\n",
    "        p1 += 1\n",
    "    while (p2 <= right):\n",
    "        newArry.append(myList[p2])\n",
    "        p2 += 1\n",
    "    for i in range(len(newArry)):\n",
    "        myList[left + i] = newArry[i]\n",
    "    return pairs, sumNum\n",
    "\n",
    "testList = [1, 3, 4, 2, 5, 3, 2]\n",
    "pairs, sumNum = inversions(testList, 0, len(testList) - 1)\n",
    "print(f'逆序对的数目是：{sumNum}')\n",
    "print('逆序对有：', pairs)\n",
    "\n",
    "\n"
   ]
  }
 ],
 "metadata": {
  "kernelspec": {
   "display_name": "pytorch",
   "language": "python",
   "name": "python3"
  },
  "language_info": {
   "codemirror_mode": {
    "name": "ipython",
    "version": 3
   },
   "file_extension": ".py",
   "mimetype": "text/x-python",
   "name": "python",
   "nbconvert_exporter": "python",
   "pygments_lexer": "ipython3",
   "version": "3.9.7"
  }
 },
 "nbformat": 4,
 "nbformat_minor": 2
}
