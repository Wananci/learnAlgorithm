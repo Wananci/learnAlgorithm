{
 "cells": [
  {
   "cell_type": "markdown",
   "metadata": {},
   "source": [
    "### 归并排序mergeSort\n",
    "\n",
    "一个数组，分成L和R两个部分，将L和R分别排序。  \n",
    "需要另外开辟一个空间，利用两个指针，当L[0] &lt; R[0]时，存放L[0]，L的指针向右移动，直到L[n] > R[0]，存放R[0]  \n",
    "当有指针越界时，存放另一个部分\n",
    "\n",
    "mergeSort的时间复杂度是O(NlogN)\n",
    "master公式：a=2, b=2, d=1\n",
    "\n",
    "额外空间复杂度是O(N)"
   ]
  },
  {
   "cell_type": "code",
   "execution_count": 1,
   "metadata": {},
   "outputs": [
    {
     "name": "stdout",
     "output_type": "stream",
     "text": [
      "test succed!\n"
     ]
    }
   ],
   "source": [
    "import random\n",
    "import sys\n",
    "sys.path.append('../testDriverFolder')\n",
    "\n",
    "from testDriver import testDriver\n",
    "\n",
    "def mergeSort(myList, left, right):\n",
    "    \"\"\"\n",
    "    code of mergeSort algorithm\n",
    "    \"\"\"\n",
    "    if (left >= right):\n",
    "        return myList\n",
    "    mid = left + (right - left) // 2\n",
    "    mergeSort(myList, left, mid)\n",
    "    mergeSort(myList, mid + 1, right)\n",
    "    merge(myList, left, mid, right)\n",
    "    return myList\n",
    "\n",
    "def merge(myList, left, mid, right):\n",
    "    p1 = left\n",
    "    p2 = mid + 1\n",
    "    newArry = []\n",
    "    while (p1 <= mid and p2 <= right):\n",
    "        if myList[p1] <= myList[p2]:\n",
    "            newArry.append(myList[p1])\n",
    "            p1 += 1 \n",
    "        else:\n",
    "            newArry.append(myList[p2])\n",
    "            p2 += 1\n",
    "    while (p1 <= mid):\n",
    "        newArry.append(myList[p1])\n",
    "        p1 += 1\n",
    "    while (p2 <= right):\n",
    "        newArry.append(myList[p2])\n",
    "        p2 += 1\n",
    "    for i in range(len(newArry)):\n",
    "        myList[left + i] = newArry[i]\n",
    "\n",
    "# test now!\n",
    "size = 100\n",
    "value = 100\n",
    "flag = True\n",
    "for _ in range(10000):\n",
    "    testdriver = testDriver(size, value)\n",
    "    re1 = mergeSort(testdriver.getArray(), 0, len(testdriver) - 1)\n",
    "    re2 = testdriver.naiveSort()\n",
    "    if re1 != re2:\n",
    "        flag = False\n",
    "if flag:\n",
    "    print(\"test succed!\")\n",
    "        \n"
   ]
  }
 ],
 "metadata": {
  "kernelspec": {
   "display_name": "pytorch",
   "language": "python",
   "name": "python3"
  },
  "language_info": {
   "codemirror_mode": {
    "name": "ipython",
    "version": 3
   },
   "file_extension": ".py",
   "mimetype": "text/x-python",
   "name": "python",
   "nbconvert_exporter": "python",
   "pygments_lexer": "ipython3",
   "version": "3.9.7"
  }
 },
 "nbformat": 4,
 "nbformat_minor": 2
}
