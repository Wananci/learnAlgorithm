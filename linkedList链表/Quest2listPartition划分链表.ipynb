{
 "cells": [
  {
   "cell_type": "markdown",
   "metadata": {},
   "source": [
    "**问题2将单链表按照某个值划分成左边小，中间相等，右边大的形式**\n",
    "\n",
    "![](./Q2.jpg)\n",
    "使用6个变量记录，分别记录小于区域的头和尾，等于区域的头和尾，大于区域的头和尾，\n"
   ]
  },
  {
   "cell_type": "code",
   "execution_count": 18,
   "metadata": {},
   "outputs": [
    {
     "name": "stdout",
     "output_type": "stream",
     "text": [
      "7 -> 6 -> 7 -> None\n",
      "7 -> 6 -> 7 -> None\n"
     ]
    }
   ],
   "source": [
    "from singlyLinkedList import singlyLinkedList, Node\n",
    "\n",
    "def listPartition(head : Node, pivot : int):\n",
    "    smallHead = None\n",
    "    smallTail = None\n",
    "    equalHead = None\n",
    "    equalTail = None\n",
    "    bigHead = None\n",
    "    bigTail = None\n",
    "    # nextNode = None\n",
    "\n",
    "    while head:\n",
    "        nextNode = head.next\n",
    "        head.next = None\n",
    "        if head.data < pivot:\n",
    "            if smallHead is None:\n",
    "                smallHead = head\n",
    "                smallTail = head\n",
    "            else:\n",
    "                smallTail.next = head\n",
    "                smallTail = head\n",
    "        elif head.data == pivot:\n",
    "            if equalHead is None:\n",
    "                equalHead = head\n",
    "                equalTail = head\n",
    "            else:\n",
    "                equalTail.next = head\n",
    "                equalTail = head\n",
    "        else:\n",
    "            if bigHead is None:\n",
    "                bigHead = head\n",
    "                bigTail = head\n",
    "            else:\n",
    "                bigTail.next = head\n",
    "                bigTail= head\n",
    "        head = nextNode\n",
    "        # head = head.next\n",
    "    \n",
    "    ## 讨论是否有小于或等于或大于区域\n",
    "    if smallTail: ## 如果有小于区域\n",
    "        smallTail.next = equalHead if equalTail else bigHead\n",
    "        if equalTail:\n",
    "            equalTail.next = bigHead\n",
    "        return smallHead\n",
    "    elif (not smallTail) and equalTail: ## 如果无小于区域，但有等于区域\n",
    "        equalTail.next = bigHead\n",
    "        return equalHead\n",
    "    else:\n",
    "        return bigHead\n",
    "    \n",
    "def printListPartition(head : Node, pivot : int):\n",
    "    resNode = listPartition(head, pivot)\n",
    "    while resNode:\n",
    "        print(resNode.data, end=' -> ')\n",
    "        resNode = resNode.next\n",
    "    print('None')\n",
    "\n",
    "testList1 = [7, 6, 7]\n",
    "pivot = 5\n",
    "testList = testList1\n",
    "linkedList = singlyLinkedList()\n",
    "for i in range(len(testList)):\n",
    "    linkedList.append(testList[i])\n",
    "linkedList.display()\n",
    "printListPartition(linkedList.head, pivot)\n"
   ]
  }
 ],
 "metadata": {
  "kernelspec": {
   "display_name": "pytorch",
   "language": "python",
   "name": "python3"
  },
  "language_info": {
   "codemirror_mode": {
    "name": "ipython",
    "version": 3
   },
   "file_extension": ".py",
   "mimetype": "text/x-python",
   "name": "python",
   "nbconvert_exporter": "python",
   "pygments_lexer": "ipython3",
   "version": "3.9.7"
  }
 },
 "nbformat": 4,
 "nbformat_minor": 2
}
