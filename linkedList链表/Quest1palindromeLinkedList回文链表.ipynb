{
 "cells": [
  {
   "cell_type": "markdown",
   "metadata": {},
   "source": [
    "**问题1：给定一个单链表的头，判断一个单链表是不是回文链表**  \n",
    "eg:  \n",
    "1->2->2->1   return: true  \n",
    "1->20->3->20->1   return: true  \n",
    "\n",
    "思路：空间复杂度：O(N/2)  \n",
    "把单链表的后半部分压入栈，并一个元素一个元素的弹出，从前往后比较。  \n",
    "\n",
    "难点1：如何知道单链表从哪里开始是后半部分？  \n",
    "解决：快慢指针：  \n",
    "快指针一次走两步，慢指针一次走一步，快指针走完的时候，慢指针是中点。将慢指针后面的部分入栈  \n",
    "\n",
    "**笔试技巧**：可能需要对快慢指针有不同的定制，根据链表的长度是奇数or偶数的不同，需要让慢指针停留在需要的位置\n",
    "\n",
    "难点2：如何让空间复杂度=O(1)  \n",
    "解决：快慢指针走完后，让快指针往中点走，另一个指针从前往中点走，逐个比较\n",
    "\n"
   ]
  },
  {
   "cell_type": "code",
   "execution_count": 11,
   "metadata": {},
   "outputs": [
    {
     "name": "stdout",
     "output_type": "stream",
     "text": [
      "1 -> 2 -> 3 -> 4 -> 5 -> 6 -> 7 -> 6 -> 5 -> 4 -> 3 -> 2 -> 1 -> None\n",
      "True\n",
      "1 -> 2 -> 3 -> 4 -> 5 -> 6 -> 7 -> 6 -> 5 -> 4 -> 3 -> 2 -> 1 -> None\n"
     ]
    }
   ],
   "source": [
    "from singlyLinkedList import singlyLinkedList, Node\n",
    "\n",
    "def is_palindrome(head : Node):\n",
    "    slowIndex = head\n",
    "    quickIndex = head\n",
    "    if not head:\n",
    "        return True\n",
    "    if not head.next:\n",
    "        return True\n",
    "    if not head.next.next:\n",
    "        slowIndex = head\n",
    "        quickIndex = head.next\n",
    "    \n",
    "    while quickIndex.next and quickIndex.next.next:\n",
    "        quickIndex = quickIndex.next.next\n",
    "        slowIndex = slowIndex.next\n",
    "    \n",
    "    ## 这句话可以不要，因为后面的代码和quickIndex没关系了\n",
    "    if quickIndex.next:\n",
    "        quickIndex = quickIndex.next\n",
    "\n",
    "    ## reverse\n",
    "    \n",
    "    reverseHead = reverse_linked_list(slowIndex.next)\n",
    "    # display(reverseHead)\n",
    "    reverseBack = reverseHead\n",
    "    flag = True\n",
    "    currentNode = head\n",
    "    while reverseHead: ## 注意这里不能用currentNode != slowIndex来判断\n",
    "        if currentNode.data != reverseHead.data:\n",
    "            flag = False\n",
    "            break\n",
    "        currentNode = currentNode.next\n",
    "        reverseHead = reverseHead.next\n",
    "    reverse_linked_list(reverseBack) ## 这里将原有的linkedList恢复原状\n",
    "    return flag\n",
    "\n",
    "# def display(head):\n",
    "#     current_node = head\n",
    "#     while current_node:\n",
    "#         print(current_node.data, end=\" -> \")\n",
    "#         current_node = current_node.next\n",
    "#     print(\"None\")\n",
    "\n",
    "## !!!逆转一个单链表\n",
    "def reverse_linked_list(head : Node):\n",
    "    prev = None\n",
    "    current = head\n",
    "\n",
    "    while current:\n",
    "        next_node = current.next\n",
    "        current.next = prev\n",
    "        prev = current\n",
    "        current = next_node\n",
    "\n",
    "    return prev\n",
    "\n",
    "## test now!\n",
    "testList1 = [1, 2, 3, 4, 5, 6, 7, 6, 5, 4, 3, 2, 1]\n",
    "testList2 = [1, 20, 3, 3, 20, 1]\n",
    "testList3 = [1]\n",
    "testList4 = [1, 2]\n",
    "testList5 = [1, 2, 1]\n",
    "testList6 = [1, 2, 3, 4]\n",
    "testList = testList1\n",
    "linkedList = singlyLinkedList()\n",
    "for i in range(len(testList)):\n",
    "    linkedList.append(testList[i])\n",
    "linkedList.display()\n",
    "print(is_palindrome(linkedList.head))\n",
    "linkedList.display()"
   ]
  }
 ],
 "metadata": {
  "kernelspec": {
   "display_name": "pytorch",
   "language": "python",
   "name": "python3"
  },
  "language_info": {
   "codemirror_mode": {
    "name": "ipython",
    "version": 3
   },
   "file_extension": ".py",
   "mimetype": "text/x-python",
   "name": "python",
   "nbconvert_exporter": "python",
   "pygments_lexer": "ipython3",
   "version": "3.9.7"
  }
 },
 "nbformat": 4,
 "nbformat_minor": 2
}
