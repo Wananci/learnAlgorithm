{
 "cells": [
  {
   "cell_type": "markdown",
   "metadata": {},
   "source": [
    "一棵树，给定Node1和Node2，找到Node1和Node2的最低公共父节点"
   ]
  },
  {
   "cell_type": "code",
   "execution_count": null,
   "metadata": {},
   "outputs": [],
   "source": [
    "from treeNode import Node"
   ]
  },
  {
   "cell_type": "code",
   "execution_count": null,
   "metadata": {},
   "outputs": [],
   "source": [
    "def lowestCommonFather(head : Node, node1 : Node, node2 : Node):\n",
    "    fatherMap = {} ## 记录一个节点的父节点\n",
    "    fatherMap[head] = head\n",
    "    process(head, fatherMap) ## 将每个点的父节点记录下来\n",
    "    myList = []\n",
    "    cur = node1\n",
    "    while cur is not fatherMap[cur]: ## 当cur不是父节点\n",
    "        myList.append(cur)\n",
    "        cur = fatherMap[cur]\n",
    "    myList.append(head)\n",
    "    cur = node2\n",
    "    while cur is not fatherMap[cur]:\n",
    "        if cur in myList:\n",
    "            return cur \n",
    "        cur = fatherMap[cur]\n",
    "    return None\n",
    "\n",
    "def process(head : Node, fatherMap : dict):\n",
    "    if head is None:\n",
    "        return\n",
    "\n",
    "    fatherMap[head.left] = head\n",
    "    fatherMap[head.right] = head\n",
    "\n",
    "    process(head.left, fatherMap)\n",
    "    process(head.right, fatherMap)"
   ]
  },
  {
   "cell_type": "code",
   "execution_count": null,
   "metadata": {},
   "outputs": [],
   "source": [
    "## condition1 : node1是node2的father 或者 node2是node1的father\n",
    "## condition2 : node1和node2通过汇聚得到father\n",
    "\n",
    "## 递归会将Node1和Node2往上回溯\n",
    "def lowestCommonFather2(head : Node, node1 : Node, node2 : Node):\n",
    "    if (head is None) or (node1 is head) or (node2 is head):\n",
    "        return head\n",
    "    left = lowestCommonFather2(head.left, node1, node2)\n",
    "    right = lowestCommonFather2(head.right, node1, node2)\n",
    "    if left and right: ## condition2\n",
    "        return head\n",
    "    ## 左右两棵树并不都有返回值 condition1\n",
    "    return left if left else right"
   ]
  }
 ],
 "metadata": {
  "language_info": {
   "name": "python"
  }
 },
 "nbformat": 4,
 "nbformat_minor": 2
}
