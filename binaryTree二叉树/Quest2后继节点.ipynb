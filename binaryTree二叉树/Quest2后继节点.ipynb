{
 "cells": [
  {
   "cell_type": "markdown",
   "metadata": {},
   "source": [
    "后继节点：中序遍历的序列中，node的下一个节点为node的后继节点\n",
    "前驱节点：中序遍历的序列中，node的上一个节点为node的前驱节点\n",
    "\n",
    "![Q2](./imgs/Q2.jpg)"
   ]
  },
  {
   "cell_type": "code",
   "execution_count": null,
   "metadata": {},
   "outputs": [],
   "source": []
  }
 ],
 "metadata": {
  "language_info": {
   "name": "python"
  }
 },
 "nbformat": 4,
 "nbformat_minor": 2
}
