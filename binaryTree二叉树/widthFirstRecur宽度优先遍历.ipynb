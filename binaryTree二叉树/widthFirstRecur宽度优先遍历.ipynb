{
 "cells": [
  {
   "cell_type": "markdown",
   "metadata": {},
   "source": [
    "**获取一个二叉树的最大宽度**  \n",
    "先用队列实现宽度优先遍历"
   ]
  },
  {
   "cell_type": "code",
   "execution_count": null,
   "metadata": {},
   "outputs": [],
   "source": [
    "from treeNode import Node\n",
    "from queue import Queue\n",
    "\n",
    "def widthFirstRecur(head : Node):\n",
    "    ## 宽度优先遍历\n",
    "    if head is None:\n",
    "        return None\n",
    "    myQueue = Queue()\n",
    "    myQueue.put(head)\n",
    "    while head:\n",
    "        head = myQueue.get()\n",
    "        print(head.value, end=' ')\n",
    "        if head.left:\n",
    "            myQueue.put(head.left)\n",
    "        if head.right:\n",
    "            myQueue.put(head.right)  \n",
    "\n",
    "def getMaxWidth(head : Node):\n",
    "    if head is None:\n",
    "        return None\n",
    "    myQueue = Queue()\n",
    "    myQueue.put(head)\n",
    "    levelHashMap = {} ## 记录节点所在的层数，记录方式为{Node : level}\n",
    "    levelHashMap[head] = 1\n",
    "    curLevel = 1 ## 当前层\n",
    "    curNodeNum = 0 ## 当前层发现的节点\n",
    "    maxLevelNum = 0\n",
    "    while myQueue.qsize():\n",
    "        cur = myQueue.get()\n",
    "        curNodeLevel = levelHashMap[cur]  ## 查询当前节点在哪一层\n",
    "        if curNodeLevel == curLevel: ## 如果现在这个节点在当前层\n",
    "            curNodeNum += 1\n",
    "        else:  ## 否则表示访问进入了下一层\n",
    "            maxLevelNum = max(maxLevelNum, curNodeNum) ## 存最大的值\n",
    "            curNodeNum = 1 ## 说明进入下一层，此时curNodeNum是1\n",
    "        if cur.left:\n",
    "            levelHashMap[cur.left] = curNodeLevel + 1  ## 把子节点所在的层放入levelHashMap\n",
    "            myQueue.put(cur.left)\n",
    "        if cur.right:\n",
    "            levelHashMap[cur.right] = curNodeLevel + 1\n",
    "            myQueue.put(cur.right)\n",
    "    return maxLevelNum "
   ]
  },
  {
   "cell_type": "code",
   "execution_count": null,
   "metadata": {},
   "outputs": [],
   "source": [
    "## 不用hash表的方法\n",
    "def getMaxWidth2(head : Node):\n",
    "    if head is None:\n",
    "        return None\n",
    "    myQueue = Queue()\n",
    "    curEnd = head  ## 现在所在的层的最后一个\n",
    "    nextEnd = None  ## 下一层的最后一个\n",
    "    maxLevelNum = 0\n",
    "    curLevelNodeNum = 0\n",
    "    while myQueue.qsize():\n",
    "        cur = myQueue.get()\n",
    "        curLevelNodeNum += 1\n",
    "        if cur.left:\n",
    "            myQueue.put(cur.left)\n",
    "            nextEnd = cur.left\n",
    "        if cur.right:\n",
    "            myQueue.put(cur.right)\n",
    "            nextEnd = cur.right\n",
    "        if cur is curEnd:\n",
    "            maxLevelNum = max(maxLevelNum, curLevelNodeNum)\n",
    "            curLevelNodeNum = 0\n",
    "            curEnd = nextEnd\n",
    "    return maxLevelNum\n",
    "        \n",
    "        "
   ]
  }
 ],
 "metadata": {
  "language_info": {
   "name": "python"
  }
 },
 "nbformat": 4,
 "nbformat_minor": 2
}
