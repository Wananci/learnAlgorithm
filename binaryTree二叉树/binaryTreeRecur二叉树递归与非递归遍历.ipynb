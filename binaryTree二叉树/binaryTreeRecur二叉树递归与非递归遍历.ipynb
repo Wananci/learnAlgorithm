{
 "cells": [
  {
   "cell_type": "markdown",
   "metadata": {},
   "source": [
    "**二叉树**\n",
    "\n",
    "用递归方法遍历二叉树，每个节点都会在递归序中出现三次  \n",
    "先序，中序，后序\n",
    "![img1](./imgs/im1.jpg)"
   ]
  },
  {
   "cell_type": "code",
   "execution_count": null,
   "metadata": {},
   "outputs": [],
   "source": [
    "from treeNode import Node"
   ]
  },
  {
   "cell_type": "code",
   "execution_count": null,
   "metadata": {},
   "outputs": [],
   "source": [
    "## 先序、中序、后序就是不同时刻打印\n",
    "def preOrderRecur(head : Node):\n",
    "    if head is None:\n",
    "        return None\n",
    "    print(head.value, end=' ')\n",
    "    preOrderRecur(head.left)\n",
    "    preOrderRecur(head.right)\n",
    "\n",
    "def inOrderRecur(head : Node):\n",
    "    if head is None:\n",
    "        return None\n",
    "    inOrderRecur(head.left)\n",
    "    print(head.value, end=' ')\n",
    "    inOrderRecur(head.right)\n",
    "\n",
    "def postOrderRecur(head : Node):\n",
    "    if head is None:\n",
    "        return None\n",
    "    postOrderRecur(head.left)\n",
    "    postOrderRecur(head.right)    \n",
    "    print(head.value, end=' ')"
   ]
  },
  {
   "cell_type": "markdown",
   "metadata": {},
   "source": [
    "下面是不用递归实现遍历"
   ]
  },
  {
   "cell_type": "code",
   "execution_count": null,
   "metadata": {},
   "outputs": [],
   "source": [
    "## 先序 头左右\n",
    "## 1. 创建栈，压入根节点 2. 弹出一个节点并打印（如果子节点为空就什么都不做） 3. 先右在左压入孩子 4. 重复2-4直到栈空\n",
    "def preOrderUnrecur(head : Node):\n",
    "    if head is not None:\n",
    "        nodeList = []\n",
    "        nodeList.append(head)\n",
    "        while nodeList:\n",
    "            head = nodeList.pop()\n",
    "            print(head.value, end=' ')\n",
    "            if not head.right:\n",
    "                nodeList.append(head.right)\n",
    "            if not head.left:\n",
    "                nodeList.append(head.left)\n",
    "\n",
    "## 后序 左右头\n",
    "## 准备两个栈，采用先左在右的压入另一个栈，（相当于头右左）再统一弹出就成了左右头\n",
    "def postOrderUnrecur(head : Node):\n",
    "    if head is not None:\n",
    "        nodeList1 = []\n",
    "        nodeList2 = []\n",
    "        nodeList1.append(head)\n",
    "        while nodeList1:\n",
    "            head = nodeList1.pop()\n",
    "            nodeList2.append(head)\n",
    "            if not head.left:\n",
    "                nodeList1.append(head.left)\n",
    "            if not head.right:\n",
    "                nodeList1.append(head.right)\n",
    "        while nodeList2:\n",
    "            print(nodeList2.pop().value, end=' ')\n",
    "\n",
    "## 中序 左头右\n",
    "## 对于每棵子树，树的左边界进栈，依次弹出节点（打印）的过程中，对弹出节点的右树重复\n",
    "def inOrderUnrecur(head : Node):\n",
    "    if head is not None:\n",
    "        nodeList = []\n",
    "        while nodeList or head:\n",
    "            if head:\n",
    "                nodeList.append(head)\n",
    "                head = head.left\n",
    "            else:\n",
    "                head = nodeList.pop()\n",
    "                print(head.value, end=' ')\n",
    "                head = head.right\n",
    "                        "
   ]
  }
 ],
 "metadata": {
  "language_info": {
   "name": "python"
  }
 },
 "nbformat": 4,
 "nbformat_minor": 2
}
