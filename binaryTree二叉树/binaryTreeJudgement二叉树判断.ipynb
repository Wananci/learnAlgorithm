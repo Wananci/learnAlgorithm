{
 "cells": [
  {
   "cell_type": "markdown",
   "metadata": {},
   "source": [
    "### 概念1：搜索二叉树BST(Binary Search Tree)\n",
    "对每一棵子树，左子树比头小，右子树比头大  \n",
    "\n",
    "**判断**：对树进行中序遍历，如果总是在升序，就是搜索二叉树"
   ]
  },
  {
   "cell_type": "code",
   "execution_count": 1,
   "metadata": {},
   "outputs": [],
   "source": [
    "from treeNode import Node\n",
    "from queue import Queue"
   ]
  },
  {
   "cell_type": "code",
   "execution_count": 2,
   "metadata": {},
   "outputs": [],
   "source": [
    "## 中序遍历\n",
    "preValue = -10000  ## 一个最小值\n",
    "\n",
    "def isBst(head : Node):\n",
    "    if head is None:\n",
    "        return None\n",
    "    isLeftBst = isBst(head.left)\n",
    "    if not isLeftBst:\n",
    "        return False\n",
    "    \n",
    "    ## 替换了原来的print\n",
    "    if head.value <= preValue:\n",
    "        return False\n",
    "    else:\n",
    "        preValue = head.value\n",
    "\n",
    "    return isBst(head.right)\n",
    "\n",
    "## 用非遍历\n",
    "def isBstUnrecur(head : Node):\n",
    "    if head is not None:\n",
    "        nodeList = []\n",
    "        while nodeList or head:\n",
    "            if head:\n",
    "                nodeList.append(head)\n",
    "                head = head.left\n",
    "            else:\n",
    "                head = nodeList.pop()\n",
    "                \n",
    "                ## 替换了原来的print\n",
    "                if head.left <= preValue:\n",
    "                    return False\n",
    "                else:\n",
    "                    preValue = head.left\n",
    "\n",
    "                head = head.right\n",
    "        return True\n",
    "    return False"
   ]
  },
  {
   "cell_type": "markdown",
   "metadata": {},
   "source": [
    "### 概念2：完全二叉树CBT(Complete Binary Tree)\n",
    "所有的树层次除了最后一层外，都是完全填充的，即使最后一层不是满的，也是变满的趋势  \n",
    "\n",
    "**判断**：按照宽度优先遍历  \n",
    "condition1：如果某个节点有右无左子节点，return False  \n",
    "condition2：满足condition1时，如果遇到了第一个左右孩子不双全的情况下，接下来遇到的所有节点都要是叶子节点（无子树），否则return False"
   ]
  },
  {
   "cell_type": "code",
   "execution_count": null,
   "metadata": {},
   "outputs": [],
   "source": [
    "def isCbt(head : Node):\n",
    "    if head is None:\n",
    "        return False\n",
    "    myQueue = Queue()\n",
    "    leaf = False ## 遇到不双全的节点后，变为true\n",
    "    myQueue.put(head)\n",
    "    while myQueue.qsize():\n",
    "        head = myQueue.get()\n",
    "        leftNode = head.left\n",
    "        rightNode = head.right\n",
    "        if (leaf and (leftNode or rightNode)) or (not leftNode and rightNode):\n",
    "            ## con1：在leaf为True时，遇到左边不是空或者右边不是空（叶子节点）return False\n",
    "            ## con2：有右无左\n",
    "            return False\n",
    "\n",
    "        if leftNode:\n",
    "            myQueue.put(leftNode)\n",
    "        if rightNode:\n",
    "            myQueue.put(rightNode)\n",
    "        if not leftNode or not rightNode:\n",
    "            leaf = True\n",
    "        "
   ]
  },
  {
   "cell_type": "markdown",
   "metadata": {},
   "source": [
    "### 概念3：满二叉树FBT(Full Binary Tree)\n",
    "所有的叶子节点都在同一层级上，除了叶子节点外，每个节点都有两个子节点。"
   ]
  },
  {
   "cell_type": "code",
   "execution_count": null,
   "metadata": {},
   "outputs": [],
   "source": []
  },
  {
   "cell_type": "markdown",
   "metadata": {},
   "source": [
    "### 概念4：平衡二叉树BBT(Balanced Binary Tree)\n",
    "对于任意一棵子树，左树和右树的高度差不超过1  \n",
    "**判断**：  "
   ]
  },
  {
   "cell_type": "code",
   "execution_count": null,
   "metadata": {},
   "outputs": [],
   "source": [
    "class returnType:\n",
    "    def __init__(self, isBalanced : bool, height : int):\n",
    "        self.isBalanced = isBalanced\n",
    "        self.height = height\n",
    "\n",
    "def process(x : Node) -> returnType:\n",
    "    if x is None:\n",
    "        return returnType(True, 0)\n",
    "    leftTree = process(x.left)\n",
    "    rightTree = process(x.right)\n",
    "\n",
    "    height = max(leftTree.height, rightTree.height) + 1\n",
    "    isBalanced = leftTree.isBalanced and rightTree.isBalanced\\\n",
    "          and abs(leftTree.height - rightTree.height) < 2\n",
    "    return returnType(isBalanced, height)\n",
    "\n",
    "def isBalanced(head : Node):\n",
    "    return process(head).isBalanced\n",
    "\n"
   ]
  },
  {
   "cell_type": "markdown",
   "metadata": {},
   "source": [
    "树形DP（dynamic programming）总结思路：通过递归解决问题：在可以找左树和右树要信息的情况下，需要满足什么要求。  \n",
    "按照这个思路，利用递归判断是否是搜索二叉树"
   ]
  },
  {
   "cell_type": "code",
   "execution_count": null,
   "metadata": {},
   "outputs": [],
   "source": [
    "class returnType4Bst:\n",
    "    def __init__(self, isSearch : bool, treeMax : int, treeMin : int) -> None:\n",
    "        self.treeMax = treeMax ## 本树的最大\n",
    "        self.treeMin = treeMin ## 本树的最小\n",
    "        self.isSearch = isSearch\n",
    "\n",
    "def process4Bst(x : Node) -> returnType4Bst:\n",
    "    if x is None:\n",
    "        return None\n",
    "    \n",
    "    leftTree = process4Bst(x.left)\n",
    "    rightTree = process4Bst(x.right)\n",
    "\n",
    "    treeMax = x.value\n",
    "    treeMin = x.value\n",
    "\n",
    "    if leftTree:\n",
    "        treeMax = max(leftTree.treeMax, treeMax)\n",
    "        treeMin = min(leftTree.treeMin, treeMin)\n",
    "    \n",
    "    if rightTree:\n",
    "        treeMax = max(rightTree.treeMax, treeMax)\n",
    "        treeMin = min(rightTree.treeMin, treeMin)\n",
    "    \n",
    "    isSearch = True\n",
    "    if leftTree and (leftTree.isSearch or leftTree.treeMax > x.value):\n",
    "        isSearch = False\n",
    "    if rightTree and (rightTree.isSearch or rightTree.treeMin < x.value):\n",
    "        isSearch = False\n",
    "    \n",
    "    return returnType4Bst(isSearch, treeMax, treeMin)\n"
   ]
  }
 ],
 "metadata": {
  "kernelspec": {
   "display_name": "pytorch",
   "language": "python",
   "name": "python3"
  },
  "language_info": {
   "codemirror_mode": {
    "name": "ipython",
    "version": 3
   },
   "file_extension": ".py",
   "mimetype": "text/x-python",
   "name": "python",
   "nbconvert_exporter": "python",
   "pygments_lexer": "ipython3",
   "version": "3.9.7"
  }
 },
 "nbformat": 4,
 "nbformat_minor": 2
}
