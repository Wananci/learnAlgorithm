{
 "cells": [
  {
   "cell_type": "markdown",
   "metadata": {},
   "source": [
    "图的表示分为很多种（邻接表，邻接矩阵，数组），用最熟悉的方式实现所有的算法"
   ]
  },
  {
   "cell_type": "code",
   "execution_count": 1,
   "metadata": {},
   "outputs": [],
   "source": [
    "## 假设现有的数据结构是[  [0, 1, 5],  # 分别表示从0点到1点，代价为5\n",
    "##                      [1, 2, 4],\n",
    "##                      [2, 3, 7],\n",
    "##                      [3, 4, 1],\n",
    "##                      [4, 0, 9]  ]\n",
    "\n",
    "## 将上述结构转换为现有的Graph结构\n",
    "from Graph import graph\n",
    "from graphNode import Node\n",
    "from graphEdge import Edge\n",
    "\n",
    "def createGraph(matrix: list):\n",
    "    myGraph = graph()\n",
    "    for i in range(len(matrix)):\n",
    "        ori = matrix[i][0]\n",
    "        dest = matrix[i][1]\n",
    "        weight = matrix[i][2]\n",
    "\n",
    "        if not ori in myGraph.nodes:\n",
    "            myGraph.nodes[ori] = Node(ori)\n",
    "        if not dest in myGraph.nodes:\n",
    "            myGraph.nodes[dest] = Node(dest)\n",
    "\n",
    "        oriNode = myGraph.nodes[ori]\n",
    "        destNode = myGraph.nodes[dest]\n",
    "\n",
    "        newEdge = Edge(weight, oriNode, destNode)\n",
    "        myGraph.edges.append(newEdge)\n",
    "\n",
    "        oriNode.nexts.append(destNode)\n",
    "        oriNode.edges.append(destNode)\n",
    "        oriNode.outNodeNum += 1\n",
    "        destNode.inNodeNum += 1\n",
    "\n"
   ]
  },
  {
   "cell_type": "code",
   "execution_count": 7,
   "metadata": {},
   "outputs": [
    {
     "name": "stdout",
     "output_type": "stream",
     "text": [
      "dict_values(['a', 'b'])\n",
      "{'1': 'a', '2': 'b'}\n"
     ]
    }
   ],
   "source": [
    "dict1 = {'1':'a', '2':'b'}\n",
    "print(dict1.values())\n",
    "print(dict1)"
   ]
  }
 ],
 "metadata": {
  "kernelspec": {
   "display_name": "pytorch",
   "language": "python",
   "name": "python3"
  },
  "language_info": {
   "codemirror_mode": {
    "name": "ipython",
    "version": 3
   },
   "file_extension": ".py",
   "mimetype": "text/x-python",
   "name": "python",
   "nbconvert_exporter": "python",
   "pygments_lexer": "ipython3",
   "version": "3.9.7"
  }
 },
 "nbformat": 4,
 "nbformat_minor": 2
}
